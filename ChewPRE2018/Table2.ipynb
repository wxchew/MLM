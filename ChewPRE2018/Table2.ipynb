{
 "cells": [
  {
   "cell_type": "markdown",
   "metadata": {},
   "source": [
    "## Numerical simulation to obtain lattice total rebinding probability at various $k_a/k_D$ ratios."
   ]
  },
  {
   "cell_type": "code",
   "execution_count": 1,
   "metadata": {},
   "outputs": [],
   "source": [
    "import sys\n",
    "import math\n",
    "import numpy as np\n",
    "from numpy import pi, sqrt, inf, log\n",
    "from ecell4 import *\n",
    "\n",
    "L = 100\n",
    "voxel_radius = 0.005\n",
    "D = 1\n",
    "rng = GSLRandomNumberGenerator()\n",
    "rng.seed(1)\n",
    "kD = 4 * pi * (2 * voxel_radius) * D\n",
    "dt = (4 * voxel_radius * voxel_radius) / (6 * D)\n",
    "p=1\n",
    "w = spatiocyte.create_spatiocyte_world_cell_list_impl(ones() * L, voxel_radius, Integer3(3, 3, 3), rng)\n",
    "\n",
    "def singlerunA(dt, Pacc,alpha): #for evaluating G_n\n",
    "    assert Pacc*alpha  <= 1\n",
    "    assert alpha<=1\n",
    "    coord1 = w.position2coordinate(ones() * L * 0.5)\n",
    "    coord2 = w.get_neighbor(coord1, 0)\n",
    "    dt = dt*alpha\n",
    "    t, nsteps = 0.0, 0\n",
    "    while all(0 <= dim < L for dim in w.coordinate2position(coord2)) and nsteps < maxstep:\n",
    "        rnd = w.rng().uniform_int(0, 11)\n",
    "        newcoord = w.get_neighbor(coord2, rnd)\n",
    "        if newcoord == coord1:\n",
    "            if Pacc * alpha >= w.rng().uniform(0, 1):\n",
    "                return nsteps+1\n",
    "        elif alpha >= w.rng().uniform(0, 1):\n",
    "            coord2 = newcoord\n",
    "            nsteps += 1\n",
    "        t += dt      \n",
    "    return -1\n",
    "\n",
    "def singlerunB(dt, Pacc): #for evaluating H_n\n",
    "    assert Pacc<= 1\n",
    "    coord1 = w.position2coordinate(ones() * L * 0.5)\n",
    "    coord2 = w.get_neighbor(coord1, 0)\n",
    "    dt = dt\n",
    "    t, nsteps = 0.0, 0\n",
    "    while all(0 <= dim < L for dim in w.coordinate2position(coord2)) and nsteps < maxstep:\n",
    "        rnd = w.rng().uniform_int(0, 11)    \n",
    "        newcoord = w.get_neighbor(coord2, rnd)\n",
    "        if newcoord == coord1:\n",
    "            if Pacc >= w.rng().uniform(0, 1):\n",
    "                return nsteps+1\n",
    "        else:\n",
    "            coord2 = newcoord\n",
    "        t += dt\n",
    "        nsteps += 1\n",
    "    return -1"
   ]
  },
  {
   "cell_type": "markdown",
   "metadata": {},
   "source": [
    "## set ka/kD ratio and number of simulation runs"
   ]
  },
  {
   "cell_type": "code",
   "execution_count": 2,
   "metadata": {},
   "outputs": [
    {
     "name": "stdout",
     "output_type": "stream",
     "text": [
      "ka/kD ratio 100\n",
      "rebinding probability until n=10, with 1000 runs: \n",
      "P= 0.992\n"
     ]
    }
   ],
   "source": [
    "ka_factor = 100 #ka/kD ratio\n",
    "ntrials = 1000# #number of runs, int(1e9) used in the paper\n",
    "\n",
    "ka = kD * ka_factor\n",
    "r0=0.256318\n",
    "Pacc = (1/r0-1)*ka_factor\n",
    "maxstep= 10 #maximum number of steps\n",
    "if Pacc>1:\n",
    "    res = [singlerunA(dt, Pacc,p/Pacc) for _ in range(ntrials)]\n",
    "else:    \n",
    "    res = [singlerunB(dt, Pacc) for _ in range(ntrials)]\n",
    "print('ka/kD ratio',ka_factor)    \n",
    "print('rebinding probability until n='+str(maxstep)+', with '+str(ntrials)+' runs: \\nP=',1-res.count(-1)/ntrials)"
   ]
  }
 ],
 "metadata": {
  "kernelspec": {
   "display_name": "Python 3",
   "language": "python",
   "name": "python3"
  },
  "language_info": {
   "codemirror_mode": {
    "name": "ipython",
    "version": 3
   },
   "file_extension": ".py",
   "mimetype": "text/x-python",
   "name": "python",
   "nbconvert_exporter": "python",
   "pygments_lexer": "ipython3",
   "version": "3.5.2"
  }
 },
 "nbformat": 4,
 "nbformat_minor": 2
}
