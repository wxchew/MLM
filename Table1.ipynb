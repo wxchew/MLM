{
 "cells": [
  {
   "cell_type": "markdown",
   "metadata": {},
   "source": [
    "## Numerical simulation to obtain first-passage probability $H_n(s_0|s_1)$ and $F_n(s_0|s_1)$ on HCP lattice"
   ]
  },
  {
   "cell_type": "code",
   "execution_count": 1,
   "metadata": {},
   "outputs": [],
   "source": [
    "import sys\n",
    "import math\n",
    "import numpy as np\n",
    "from numpy import pi, sqrt, inf, log\n",
    "from ecell4 import *\n",
    "\n",
    "L = 100\n",
    "voxel_radius = 0.005\n",
    "D = 1\n",
    "rng = GSLRandomNumberGenerator()\n",
    "rng.seed(1)\n",
    "dt = (4 * voxel_radius * voxel_radius) / (6 * D)\n",
    "maxstep= 5\n",
    "p=1\n",
    "w = spatiocyte.create_spatiocyte_world_cell_list_impl(ones() * L, voxel_radius, Integer3(3, 3, 3), rng)\n",
    "\n",
    "def singlerunA(dt, Pacc,alpha): #for evaluating G_n\n",
    "    assert Pacc*alpha  <= 1\n",
    "    assert alpha<=1\n",
    "    coord1 = w.position2coordinate(ones() * L * 0.5)\n",
    "    coord2 = w.get_neighbor(coord1, 0)\n",
    "    dt = dt*alpha\n",
    "    t, nsteps = 0.0, 0\n",
    "    while all(0 <= dim < L for dim in w.coordinate2position(coord2)) and nsteps < maxstep:\n",
    "        rnd = w.rng().uniform_int(0, 11)\n",
    "        newcoord = w.get_neighbor(coord2, rnd)\n",
    "        if newcoord == coord1:\n",
    "            if Pacc * alpha >= w.rng().uniform(0, 1):\n",
    "                return nsteps+1\n",
    "        elif alpha >= w.rng().uniform(0, 1):\n",
    "            coord2 = newcoord\n",
    "            nsteps += 1\n",
    "        t += dt     \n",
    "    return -1\n",
    "\n",
    "def singlerunB(dt, Pacc): #for evaluating H_n\n",
    "    assert Pacc<= 1\n",
    "    coord1 = w.position2coordinate(ones() * L * 0.5)\n",
    "    coord2 = w.get_neighbor(coord1, 0)\n",
    "    dt = dt\n",
    "    t, nsteps = 0.0, 0\n",
    "    while all(0 <= dim < L for dim in w.coordinate2position(coord2)) and nsteps < maxstep:\n",
    "        rnd = w.rng().uniform_int(0, 11)    \n",
    "        newcoord = w.get_neighbor(coord2, rnd)\n",
    "        if newcoord == coord1:\n",
    "            if Pacc >= w.rng().uniform(0, 1):\n",
    "                return nsteps+1\n",
    "        else:\n",
    "            coord2 = newcoord\n",
    "        t += dt\n",
    "        nsteps += 1\n",
    "    return -1"
   ]
  },
  {
   "cell_type": "markdown",
   "metadata": {},
   "source": [
    "### insert the reaction acceptance probability and number of runs"
   ]
  },
  {
   "cell_type": "code",
   "execution_count": 2,
   "metadata": {},
   "outputs": [],
   "source": [
    "Pacc = 2  #for evaluating G_n, (P_a=2a, a=1/2)\n",
    "#Pacc=0.5 #for evaluating H_n (P_a=0.5)\n",
    "\n",
    "#number of runs\n",
    "ntrials = 100#int(1e9), used in the paper\n",
    "\n",
    "if Pacc>1:\n",
    "    res = [singlerunA(dt, Pacc,p/Pacc) for _ in range(ntrials)]\n",
    "else:    \n",
    "    res = [singlerunB(dt, Pacc) for _ in range(ntrials)]\n",
    "\n",
    "#list of step taken to return to origin    \n",
    "retstep = np.array([i for i in res if i!=-1]) "
   ]
  },
  {
   "cell_type": "markdown",
   "metadata": {},
   "source": [
    "### Comparison of numerical result with exact values"
   ]
  },
  {
   "cell_type": "code",
   "execution_count": 3,
   "metadata": {},
   "outputs": [],
   "source": [
    "def err(a,b):\n",
    "    return (a-b)*100/a\n",
    "\n",
    "stp,stpc=np.unique(retstep,return_counts=True)\n",
    "#exact first-passage probability for comparison\n",
    "#P_a=0.5\n",
    "p05=np.array([0.04166666,0.015625,0.01077836,0.0074297,0.005680163])\n",
    "#P_a=2a, a=1/2\n",
    "p2=np.array([0.153846,0.0473373,0.0313306,0.0200584,0.0147588]) \n",
    "\n",
    "for i,j in enumerate(stp):\n",
    "    fp = stpc[i]/ntrials #numerical first-passage probability\n",
    "    #print('n',j,'exact',p2[i],'numerical',fp,'error %',err(p2[i],fp))\n",
    "    #print('n',j,'exact',p05[i],'numerical',fp,'error %',err(p05[i],fp))"
   ]
  }
 ],
 "metadata": {
  "kernelspec": {
   "display_name": "Python 3",
   "language": "python",
   "name": "python3"
  },
  "language_info": {
   "codemirror_mode": {
    "name": "ipython",
    "version": 3
   },
   "file_extension": ".py",
   "mimetype": "text/x-python",
   "name": "python",
   "nbconvert_exporter": "python",
   "pygments_lexer": "ipython3",
   "version": "3.5.2"
  }
 },
 "nbformat": 4,
 "nbformat_minor": 2
}
