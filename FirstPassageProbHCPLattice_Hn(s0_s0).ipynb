{
 "cells": [
  {
   "cell_type": "code",
   "execution_count": 1,
   "metadata": {},
   "outputs": [],
   "source": [
    "import math\n",
    "import numpy as np\n",
    "import scipy"
   ]
  },
  {
   "cell_type": "code",
   "execution_count": 2,
   "metadata": {},
   "outputs": [],
   "source": [
    "def bino(n, k):\n",
    "    def eratosthenes_simple_numbers(N):\n",
    "        yield 2\n",
    "        nonsimp = set()\n",
    "        for i in range(3, N + 1, 2):\n",
    "            if i not in nonsimp:\n",
    "                nonsimp |= {j for j in range(i * i, N + 1, 2 * i)}\n",
    "                yield i\n",
    "    def calc_pow_in_factorial(a, p):\n",
    "        res = 0\n",
    "        while a:\n",
    "            a //= p\n",
    "            res += a\n",
    "        return res\n",
    "    ans = 1\n",
    "    for p in eratosthenes_simple_numbers(n):\n",
    "        ans *= p ** (calc_pow_in_factorial(n, p) - calc_pow_in_factorial(k, p) - calc_pow_in_factorial(n - k, p))\n",
    "    return ans"
   ]
  },
  {
   "cell_type": "code",
   "execution_count": 3,
   "metadata": {},
   "outputs": [],
   "source": [
    "memH={0:1}\n",
    "memP={0:1}\n",
    "memF={0:0}\n",
    "\n",
    "def H(n): \n",
    "    if n not in memH:\n",
    "        x=0\n",
    "        for j in range(n+1):\n",
    "            xx = (bino(n,j))**2 *(bino(2*j,j))*(bino(2*n-2*j,n-j))\n",
    "            x+=xx\n",
    "        memH[n]=x\n",
    "    return memH[n]\n",
    "\n",
    "def P(n): \n",
    "    if n not in memP:\n",
    "        y=0\n",
    "        for j in range(n+1):\n",
    "            yy = bino(n,j)*((-4)**(n-j)) *H(j)\n",
    "            y+=yy\n",
    "        memP[n]=y/12**n\n",
    "    return memP[n]\n",
    "\n",
    "\n",
    "def F(n): \n",
    "    if n not in memF:\n",
    "        yy=0\n",
    "        for j in range(n-1):\n",
    "            j+=1\n",
    "            yy+=P(n-j)*F(j)\n",
    "        memF[n]=P(n)-yy    \n",
    "    return memF[n]\n",
    "\n",
    "\n",
    "def Fj(n,j):\n",
    "    y=[F(i+1) for i in range(n)]\n",
    "    k=list(y)\n",
    "    Fnj=[y[-1]]\n",
    "    jj = 2\n",
    "    while jj<=j:\n",
    "        nlist = []\n",
    "        for nn in range(n): #get Fjj for all n \n",
    "            g=0\n",
    "            for i in range(nn): #get Fjj for nn\n",
    "                i+=1\n",
    "                g+= y[i]*k[nn-i]\n",
    "            nlist.append(g)\n",
    "        jj+=1\n",
    "        k=list(nlist)\n",
    "        Fnj.append(k[-1])\n",
    "    return Fnj #Fn at j=0 to input J\n",
    "\n",
    "def Fj2(n,j):\n",
    "    if j==1:\n",
    "        return F(n)\n",
    "    else:\n",
    "        y=0\n",
    "        for i in range(n):\n",
    "            i+=1\n",
    "            y+=F(i)*Fj2(n-i,j-1)\n",
    "        return y\n",
    "\n",
    "def Hn(Pa,n): #FP probability after n steps\n",
    "    sm = 0\n",
    "    for j in range(n):\n",
    "        j+=1\n",
    "        sm+=Fj2(n+j,j)*(1-Pa)**(j-1)\n",
    "    return Pa*sm\n"
   ]
  },
  {
   "cell_type": "code",
   "execution_count": 4,
   "metadata": {},
   "outputs": [
    {
     "name": "stdout",
     "output_type": "stream",
     "text": [
      "1 0.041666666666666664\n",
      "2 0.015625\n",
      "3 0.010778356481481483\n",
      "4 0.007429711612654322\n",
      "5 0.005680162720228909\n"
     ]
    }
   ],
   "source": [
    "n=5\n",
    "Pa=0.5\n",
    "for i in range(n):\n",
    "    print(i+1,Hn(Pa,i+1))"
   ]
  }
 ],
 "metadata": {
  "kernelspec": {
   "display_name": "Python 2",
   "language": "python",
   "name": "python2"
  },
  "language_info": {
   "codemirror_mode": {
    "name": "ipython",
    "version": 3
   },
   "file_extension": ".py",
   "mimetype": "text/x-python",
   "name": "python",
   "nbconvert_exporter": "python",
   "pygments_lexer": "ipython3",
   "version": "3.5.2"
  }
 },
 "nbformat": 4,
 "nbformat_minor": 2
}
